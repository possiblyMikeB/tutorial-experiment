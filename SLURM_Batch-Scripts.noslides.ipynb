{
 "cells": [
  {
   "cell_type": "markdown",
   "metadata": {
    "slideshow": {
     "slide_type": "slide"
    }
   },
   "source": [
    "\n",
    "# SLURM: Jobs & Batch Scripts"
   ]
  },
  {
   "cell_type": "markdown",
   "metadata": {
    "slideshow": {
     "slide_type": "subslide"
    }
   },
   "source": [
    "## What Is A Job?"
   ]
  },
  {
   "cell_type": "markdown",
   "metadata": {
    "slideshow": {
     "slide_type": "fragment"
    }
   },
   "source": [
    "Fundamentally, a **job**, consists of two things: an allotment of resources & snippets of code to execute using that allotment. "
   ]
  },
  {
   "cell_type": "markdown",
   "metadata": {
    "slideshow": {
     "slide_type": "subslide"
    }
   },
   "source": [
    "*This means that when we request that SLURM perform some task (say, executing a snippet of code) we are also requesting a resource allotment which will be reserved for the execution of that task.*"
   ]
  },
  {
   "cell_type": "markdown",
   "metadata": {
    "slideshow": {
     "slide_type": "slide"
    }
   },
   "source": [
    "## How Do We Request Resources & Perform Tasks?"
   ]
  },
  {
   "cell_type": "markdown",
   "metadata": {
    "slideshow": {
     "slide_type": "fragment"
    }
   },
   "source": [
    "There are a couple of ways we can request a resource allotment and perform tasks.  "
   ]
  },
  {
   "cell_type": "markdown",
   "metadata": {
    "slideshow": {
     "slide_type": "fragment"
    }
   },
   "source": [
    "We might use the command `salloc` to request an allotment (by providing arguments on the command-line) and then interactively run code using the the resources once they become available. Alternatively, if we want for the task to be performed without needing to interact with it, we can use the command `sbatch`.  \n"
   ]
  },
  {
   "cell_type": "markdown",
   "metadata": {
    "slideshow": {
     "slide_type": "fragment"
    }
   },
   "source": [
    "Learning the basics of the `sbatch` command is the purpose of this notebook."
   ]
  },
  {
   "cell_type": "markdown",
   "metadata": {
    "slideshow": {
     "slide_type": "subslide"
    }
   },
   "source": [
    "### The Command `sbatch`"
   ]
  },
  {
   "cell_type": "markdown",
   "metadata": {
    "slideshow": {
     "slide_type": "fragment"
    }
   },
   "source": [
    "\n",
    "When provided the path of a shell-script, the `sbatch`\n",
    "command searches the script for lines beginning with `#SBATCH`.  Any line starting with `#SBATCH` occuring during the preamble (*before any commands*) is treated as meta-data specifying some parameters for a job we're requesting be created."
   ]
  },
  {
   "cell_type": "markdown",
   "metadata": {
    "slideshow": {
     "slide_type": "fragment"
    }
   },
   "source": [
    "If these parameters describe a *feasible* job, that job is created and queued until an appropriate resource allotment (matching the provided parameters) can be made.  Once an appropriate allotment becomes available, the provided shell-script is executed using the alloted resources."
   ]
  },
  {
   "cell_type": "markdown",
   "metadata": {
    "slideshow": {
     "slide_type": "subslide"
    }
   },
   "source": [
    "---\n",
    "Any shell-script containing meta-data that `sbatch` can understand *(say, describing a resource request or providing other ambient details)* is called a **batch-script** (or job-script).\n",
    "\n",
    "---"
   ]
  },
  {
   "cell_type": "markdown",
   "metadata": {
    "slideshow": {
     "slide_type": "slide"
    }
   },
   "source": [
    "### **Example 1**"
   ]
  },
  {
   "cell_type": "markdown",
   "metadata": {},
   "source": [
    "Select the cell below and use `SHIFT`+`ENTER` to create the batch-script `example-one.sh`,"
   ]
  },
  {
   "cell_type": "code",
   "execution_count": null,
   "metadata": {
    "slideshow": {
     "slide_type": "-"
    }
   },
   "outputs": [],
   "source": [
    "%%file example-one.sh\n",
    "#!/bin/bash\n",
    "### Job Parameters:  \n",
    "#SBATCH --job-name \"My Letter\"     # job's name\n",
    "#SBATCH --output   \"letter.%j.log\" # output log (%j gets replaced with job's id)\n",
    "#SBATCH --comment  \"A humble job.\" # comment about job\n",
    "\n",
    "### Script To Execute:\n",
    "amount=$((30 + RANDOM % 60)) # number between 30 and 90\n",
    "memory=$((SLURM_MEM_PER_CPU * SLURM_CPUS_PER_TASK * 1024 * 1024))\n",
    "draft=(\" Dear ${USER},\\n\\n\"\n",
    "       \"  I hope this letter finds you well; it is a glorious $(date +%A)\\n\"\n",
    "       \"in $(date +%B) and I find myself executing on \"$(hostname -s)\" with\\n\"\n",
    "       \"access to ${memory} bytes of memory and $(nproc) cpu(s). Knowing that\\n\"\n",
    "       \"these resources are shared, I have chosen to surrender ${amount}\\n\"\n",
    "       \"seconds of my alloted time to processes less fortunate than I.\\n\\n\"\n",
    "       \"Cheers,\\n\" \"  Job ${SLURM_JOB_ID}\\n\")\n",
    "\n",
    "# send letter & take a nap.\n",
    "echo -e \"${draft[@]}\" && sleep ${amount}\n",
    "    "
   ]
  },
  {
   "cell_type": "markdown",
   "metadata": {
    "slideshow": {
     "slide_type": "subslide"
    }
   },
   "source": [
    "#### Submiting The Script & Getting Results"
   ]
  },
  {
   "cell_type": "markdown",
   "metadata": {
    "slideshow": {
     "slide_type": "-"
    }
   },
   "source": [
    "To submit the batch-script to SLURM, we use the `sbatch` command. If `sbatch` successfully creates the job associated with the provided script, it will output the job's id."
   ]
  },
  {
   "cell_type": "markdown",
   "metadata": {
    "slideshow": {
     "slide_type": "fragment"
    }
   },
   "source": [
    "Select the following cell and use `SHIFT`+`ENTER` to evaluate it and submit the example batch-script we created,"
   ]
  },
  {
   "cell_type": "code",
   "execution_count": null,
   "metadata": {},
   "outputs": [],
   "source": [
    "sbatch example-one.sh "
   ]
  },
  {
   "cell_type": "markdown",
   "metadata": {
    "slideshow": {
     "slide_type": "subslide"
    }
   },
   "source": [
    "Once a job has been successfully submitted, it will appear in the SLURM scheduling queue until it completes. To view jobs currently in the queue, use the command `squeue`. "
   ]
  },
  {
   "cell_type": "markdown",
   "metadata": {
    "slideshow": {
     "slide_type": "fragment"
    }
   },
   "source": [
    "Select the following cell and use `SHIFT`+`ENTER` to evaluate it and view the queue (*see if you can locate your job using the JOBID column*)"
   ]
  },
  {
   "cell_type": "code",
   "execution_count": null,
   "metadata": {},
   "outputs": [],
   "source": [
    "squeue"
   ]
  },
  {
   "cell_type": "markdown",
   "metadata": {
    "slideshow": {
     "slide_type": "subslide"
    }
   },
   "source": [
    "As fun as submitting a job and viewing the queue might be, what happenes once the job executes is fundamentally more important. *Complete the task described in the following cell to view the output of your batch-script,*"
   ]
  },
  {
   "cell_type": "code",
   "execution_count": null,
   "metadata": {
    "slideshow": {
     "slide_type": "-"
    }
   },
   "outputs": [],
   "source": [
    "# TASK: determine the name of the file containing the output \n",
    "#    generated by the batch-script, put the filename\n",
    "#    in the quotes below, then execute this cell using SHIFT+ENTER.\n",
    "cat \"\""
   ]
  },
  {
   "cell_type": "markdown",
   "metadata": {
    "slideshow": {
     "slide_type": "slide"
    }
   },
   "source": [
    "### **Example 2**"
   ]
  },
  {
   "cell_type": "markdown",
   "metadata": {},
   "source": [
    "Use `SHIFT`+`ENTER` to create the file `example-two.sh` containing the code from the next cell,"
   ]
  },
  {
   "cell_type": "code",
   "execution_count": null,
   "metadata": {
    "slideshow": {
     "slide_type": "-"
    }
   },
   "outputs": [],
   "source": [
    "%%file \"example-two.sh\"\n",
    "#!/bin/bash\n",
    "### Job Parameters:\n",
    "#SBATCH --job-name  \"Arguments\" # display name\n",
    "#SBATCH --output    \"out.log\"   # where to log terminal output \n",
    "#SBATCH --error     \"err.log\"   #  .. and error messages\n",
    "#SBATCH --open-mode truncate    # always overwrite log files \n",
    "\n",
    "# Resources required\n",
    "#SBATCH --ntasks 1          # number of tasks we'll perform\n",
    "#SBATCH --cpus-per-task 1   # num. cpus each task will require\n",
    "#SBATCH --mem-per-cpu 128   # memory required per cpu (in megabytes)\n",
    "\n",
    "### Script To Execute:\n",
    "for item in \"$@\"; do # loop provided arguments.\n",
    "    # print the length of the argument (as a string)\n",
    "    echo -n \"The argument '${item}' is ${#item} characters long. \"\n",
    "    # and then do something random...\n",
    "    amount=$((RANDOM % 6))   # choose `amount` to sleep\n",
    "    sleep 0.${amount}        # sleep for `amount/10` seconds\n",
    "    echo \"Slept for 0.${amount} seconds.\"\n",
    "done"
   ]
  },
  {
   "cell_type": "markdown",
   "metadata": {
    "slideshow": {
     "slide_type": "subslide"
    }
   },
   "source": [
    "#### Submiting The Script & Getting Results"
   ]
  },
  {
   "cell_type": "markdown",
   "metadata": {
    "slideshow": {
     "slide_type": "-"
    }
   },
   "source": [
    "The awesome thing about batch-scripts is they are also shell-scripts. This means we can execute them without needing to go through SLURM, and that the normal testing & development workflow is available."
   ]
  },
  {
   "cell_type": "markdown",
   "metadata": {
    "slideshow": {
     "slide_type": "fragment"
    }
   },
   "source": [
    "Use `SHIFT`+`ENTER` to evaluate the following cell and verify the batch-script works properly,"
   ]
  },
  {
   "cell_type": "code",
   "execution_count": null,
   "metadata": {
    "scrolled": true,
    "slideshow": {
     "slide_type": "-"
    }
   },
   "outputs": [],
   "source": [
    "bash example-two.sh \"first\" second{0..2} "
   ]
  },
  {
   "cell_type": "markdown",
   "metadata": {
    "slideshow": {
     "slide_type": "fragment"
    }
   },
   "source": [
    "**Optional:** In the cell with batch-script's code, locate the line containing **--cpus-per-task** and change the number of requested CPUs to 2. Save these changes to `example-two.sh` by evaluating that cell, then verify the script still works appropriately."
   ]
  },
  {
   "cell_type": "markdown",
   "metadata": {
    "slideshow": {
     "slide_type": "subslide"
    }
   },
   "source": [
    "When you submit a batch-script to SLURM, it's possible to provide a sequence of arguments which will be passed to the script when it executes. \n",
    "\n",
    "Use `SHIFT`+`ENTER` to evaluate the following cell and submit the batch-script along with arguments to be used when it executes."
   ]
  },
  {
   "cell_type": "code",
   "execution_count": null,
   "metadata": {
    "scrolled": true,
    "slideshow": {
     "slide_type": "-"
    }
   },
   "outputs": [],
   "source": [
    "sbatch example-two.sh \"lion\" \"tigers\" argument{1..500}  \"bear\" "
   ]
  },
  {
   "cell_type": "markdown",
   "metadata": {
    "slideshow": {
     "slide_type": "fragment"
    }
   },
   "source": [
    "To verify the  submitted job is running, we'll use `squeue` again.  However, this time, instead of seeing all jobs in the queue, we'll restrict to only jobs associated with our user. To do this we need to use the `--user` argument for `squeue`."
   ]
  },
  {
   "cell_type": "code",
   "execution_count": null,
   "metadata": {
    "slideshow": {
     "slide_type": "-"
    }
   },
   "outputs": [],
   "source": [
    "# excute this cell using SHIFT+ENTER\n",
    "squeue --user $USER"
   ]
  },
  {
   "cell_type": "markdown",
   "metadata": {
    "slideshow": {
     "slide_type": "subslide"
    }
   },
   "source": [
    "*How did we know about the `--user` argument?*"
   ]
  },
  {
   "cell_type": "markdown",
   "metadata": {
    "slideshow": {
     "slide_type": "fragment"
    }
   },
   "source": [
    "We used `man`. The system command `man` is an important resource when using UNIX/Linux based systems.  The command provides detailed documentation (or *manuals*) for various topics, among those topics you'll find \"*usage and runtime behavior*\" information for a most commands available at a terminal."
   ]
  },
  {
   "cell_type": "markdown",
   "metadata": {
    "slideshow": {
     "slide_type": "-"
    }
   },
   "source": [
    "In the case of `squeue`, we can learn a lot about what sort of arguments it accepts by skimming the documentation presented by running `man squeue`. For example, a passage detailing how to use the argument `--user` is contained within."
   ]
  },
  {
   "cell_type": "markdown",
   "metadata": {
    "slideshow": {
     "slide_type": "subslide"
    }
   },
   "source": [
    "Use `SHIFT`+`ENTER` to evaluate the following cell and display the manual for the `squeue` command. Then, either by, going to the `Edit` menu and selecting `Find`, or using scroll-bar to the right, locate the documentation for the **--users** option,"
   ]
  },
  {
   "cell_type": "code",
   "execution_count": null,
   "metadata": {
    "slideshow": {
     "slide_type": "-"
    }
   },
   "outputs": [],
   "source": [
    "man squeue"
   ]
  },
  {
   "cell_type": "markdown",
   "metadata": {
    "slideshow": {
     "slide_type": "subslide"
    }
   },
   "source": [
    "To finish this example, determine the name of the file containing the output from the batch-script and use the `cat` to display it's contents."
   ]
  },
  {
   "cell_type": "markdown",
   "metadata": {
    "slideshow": {
     "slide_type": "subslide"
    }
   },
   "source": [
    "Use `SHIFT`+`ENTER` to evaluate the cell once you have inserted the appropriate command,"
   ]
  },
  {
   "cell_type": "code",
   "execution_count": null,
   "metadata": {
    "slideshow": {
     "slide_type": "-"
    }
   },
   "outputs": [],
   "source": []
  },
  {
   "cell_type": "markdown",
   "metadata": {
    "slideshow": {
     "slide_type": "subslide"
    }
   },
   "source": [
    "### **Example 3**"
   ]
  },
  {
   "cell_type": "markdown",
   "metadata": {},
   "source": [
    "Use `SHIFT`+`ENTER` to create the file `example-three.sh` containing the code from the next cell,"
   ]
  },
  {
   "cell_type": "code",
   "execution_count": null,
   "metadata": {
    "scrolled": true,
    "slideshow": {
     "slide_type": "-"
    }
   },
   "outputs": [],
   "source": [
    "%%file \"example-three.sh\"\n",
    "#!/bin/bash\n",
    "### Job Parameters:\n",
    "#SBATCH --job-name \"Recursive\"     # job name\n",
    "#SBATCH --output   \"recursive.log\" # place to log output\n",
    "#SBATCH --open-mode append         # always append to logs\n",
    "#SBATCH --begin     now+10         # specify when the job should start\n",
    "                                   # .. (waits 10 seconds after submission)\n",
    "### Script To Execute:\n",
    "# print job detials\n",
    "echo \"Running job $SLURM_JOB_ID\"\n",
    "echo \"Batch script file: $0\"\n",
    "\n",
    "# submit new job using *this* script (recursion)\n",
    "sbatch \"$0\""
   ]
  },
  {
   "cell_type": "markdown",
   "metadata": {
    "slideshow": {
     "slide_type": "subslide"
    }
   },
   "source": [
    "#### Submiting The Script & Getting Results"
   ]
  },
  {
   "cell_type": "markdown",
   "metadata": {
    "slideshow": {
     "slide_type": "-"
    }
   },
   "source": [
    "We'll submit the job to SLURM as normal, however this time we will request that it be considered for execution immediately. "
   ]
  },
  {
   "cell_type": "code",
   "execution_count": null,
   "metadata": {
    "slideshow": {
     "slide_type": "fragment"
    }
   },
   "outputs": [],
   "source": [
    "# execute this cell using SHIFT+ENTER\n",
    "sbatch --begin now example-three.sh"
   ]
  },
  {
   "cell_type": "markdown",
   "metadata": {
    "slideshow": {
     "slide_type": "fragment"
    }
   },
   "source": [
    "As it turns out, any piece of information which can be provided by an `#SBATCH` line in a batch-script, can be directly passed to `sbatch` as a command-line argument (and vice versa). "
   ]
  },
  {
   "cell_type": "markdown",
   "metadata": {
    "slideshow": {
     "slide_type": "subslide"
    }
   },
   "source": [
    "As an example, let's submit a job using the same script, but have the initial job request 1G of memory per cpu, and not start running until after tomorrow at mid-night."
   ]
  },
  {
   "cell_type": "code",
   "execution_count": null,
   "metadata": {
    "slideshow": {
     "slide_type": "-"
    }
   },
   "outputs": [],
   "source": [
    "# execute this cell using SHIFT+ENTER\n",
    "sbatch --mem-per-cpu 1024 --begin tomorrow example-three.sh "
   ]
  },
  {
   "cell_type": "markdown",
   "metadata": {
    "slideshow": {
     "slide_type": "subslide"
    }
   },
   "source": [
    "Let's check the status of the jobs we've submitted. This time, we'll only request information about jobs with the name \"Recursive\" associated with our user."
   ]
  },
  {
   "cell_type": "code",
   "execution_count": null,
   "metadata": {
    "scrolled": true,
    "slideshow": {
     "slide_type": "-"
    }
   },
   "outputs": [],
   "source": [
    "# execute this cell using SHIFT+ENTER\n",
    "squeue --user $USER --name \"Recursive\" "
   ]
  },
  {
   "cell_type": "markdown",
   "metadata": {
    "slideshow": {
     "slide_type": "subslide"
    }
   },
   "source": [
    "Since these jobs are recursive, they will keep resubmitting themselves *forever*. \n",
    "\n",
    "As a result, it's important for us to stop (or *cancel*) any instances which appear in the queue.  To accomplish this, we'll use the command `scancel`. "
   ]
  },
  {
   "cell_type": "markdown",
   "metadata": {
    "slideshow": {
     "slide_type": "fragment"
    }
   },
   "source": [
    "This command can handle some of the same arguments as `squeue`. In particular, to cancel all jobs with the name \"Recursive\" associated with our user, we just run,"
   ]
  },
  {
   "cell_type": "code",
   "execution_count": null,
   "metadata": {
    "slideshow": {
     "slide_type": "-"
    }
   },
   "outputs": [],
   "source": [
    "# execute this cell using SHIFT+ENTER\n",
    "scancel --user $USER --name \"Recursive\""
   ]
  },
  {
   "cell_type": "markdown",
   "metadata": {
    "slideshow": {
     "slide_type": "subslide"
    }
   },
   "source": [
    "Finally, if you want historical information about the jobs you've submitted, you use the `sacct` command. Moreover, it has argments which are similar to those of `squeue`. "
   ]
  },
  {
   "cell_type": "markdown",
   "metadata": {
    "slideshow": {
     "slide_type": "fragment"
    }
   },
   "source": [
    "For example, to see a list of jobs (past and present) which have the name \"Recursive\" and are attached to your user, we can use the following,"
   ]
  },
  {
   "cell_type": "code",
   "execution_count": null,
   "metadata": {
    "slideshow": {
     "slide_type": "-"
    }
   },
   "outputs": [],
   "source": [
    "# execute this cell using SHIFT+ENTER\n",
    "sacct --user $USER --name \"Recursive\""
   ]
  }
 ],
 "metadata": {
  "celltoolbar": "Slideshow",
  "kernelspec": {
   "display_name": "Bash",
   "language": "bash",
   "name": "calysto_bash"
  },
  "language_info": {
   "file_extension": ".sh",
   "help_links": [
    {
     "text": "MetaKernel Magics",
     "url": "https://metakernel.readthedocs.io/en/latest/source/README.html"
    }
   ],
   "mimetype": "text/x-sh",
   "name": "bash",
   "version": "0.2.2"
  },
  "rise": {
   "auto_select": "code",
   "autolaunch": true,
   "scroll": true,
   "theme": "night"
  }
 },
 "nbformat": 4,
 "nbformat_minor": 4
}
