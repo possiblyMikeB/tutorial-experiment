{
 "cells": [
  {
   "cell_type": "markdown",
   "metadata": {},
   "source": [
    "# SLURM: Advanced Batch Scripting"
   ]
  },
  {
   "cell_type": "markdown",
   "metadata": {},
   "source": [
    "SLURM is a powerful tool and, in addition to having a cool name, is used by 70%+ of the systems found on the [TOP500](https://top500.org/project/) list of most powerful supercomputers."
   ]
  },
  {
   "cell_type": "markdown",
   "metadata": {},
   "source": [
    "### Example: Accounts, Partitions, and QOS."
   ]
  },
  {
   "cell_type": "code",
   "execution_count": null,
   "metadata": {},
   "outputs": [],
   "source": [
    "# IDEA:\n",
    "#.  start with a batch-script example attempting to access \n",
    "#. a restricted partition; have the student modify the \n",
    "#. script so that it requests resources somewhere else, then run.\n",
    "# \n",
    "#. NOTE: should request access to a GPU.\n",
    "#. "
   ]
  },
  {
   "cell_type": "markdown",
   "metadata": {},
   "source": [
    "### Example: Job Steps"
   ]
  },
  {
   "cell_type": "code",
   "execution_count": null,
   "metadata": {},
   "outputs": [],
   "source": [
    "# IDEA:\n",
    "#.  A 1 ntask batch-script which uses `srun` to \n",
    "#. launch job-steps, passing different `--output` and\n",
    "#. `--job-name` values with each call.\n",
    "#. "
   ]
  },
  {
   "cell_type": "markdown",
   "metadata": {},
   "source": [
    "### Example: Parallel Tasks (Serial)"
   ]
  },
  {
   "cell_type": "code",
   "execution_count": null,
   "metadata": {},
   "outputs": [],
   "source": [
    "# IDEA:\n",
    "#.   batch-script that requests one-node, 3 tasks, and 1 cpu per task.\n",
    "#. moreover, it should launch more than one job-step and which \n",
    "#. passed different values of `-n` &`--job-name` \n",
    "#. \n",
    "#. NOTE: might use PushShift API  https://pushshift.io/api-parameters/ t\n",
    "#.    or their archive of reddit comments https://files.pushshift.io/reddit/comments/\n",
    "#.    to search for, or download different things\n",
    "#. "
   ]
  },
  {
   "cell_type": "markdown",
   "metadata": {},
   "source": [
    "### Example: Parallel Tasks (Threaded)"
   ]
  },
  {
   "cell_type": "code",
   "execution_count": null,
   "metadata": {},
   "outputs": [],
   "source": [
    "# IDEA:\n",
    "#.    batch-script requests 2 nodes, 1 task-per-node, with \n",
    "#.  2 cpus-per-task. akes one call to `srun`. Calls \n",
    "#.  a multi-threaded python script (which will be provided).\n",
    "#"
   ]
  },
  {
   "cell_type": "markdown",
   "metadata": {},
   "source": [
    "### Example: Job Arrays"
   ]
  },
  {
   "cell_type": "code",
   "execution_count": null,
   "metadata": {},
   "outputs": [],
   "source": [
    "# VAUGE THOUGHT: Something using Julia."
   ]
  },
  {
   "cell_type": "markdown",
   "metadata": {
    "slideshow": {
     "slide_type": "skip"
    }
   },
   "source": [
    "### Example: Multiple Stages \n"
   ]
  },
  {
   "cell_type": "markdown",
   "metadata": {
    "slideshow": {
     "slide_type": "skip"
    }
   },
   "source": [
    "#### Stage 1:  `example-four-stage-1.sh`"
   ]
  },
  {
   "cell_type": "code",
   "execution_count": null,
   "metadata": {
    "scrolled": true,
    "slideshow": {
     "slide_type": "skip"
    }
   },
   "outputs": [],
   "source": [
    "%%file \"example-four-stage1.sh\"\n",
    "#!/bin/bash\n",
    "### Job Parameters:\n",
    "#SBATCH --job-name \"Stage 1\"             # job name\n",
    "#SBATCH --output   \"logs/stage1.%j.log\"  # output file pattern\n",
    "\n",
    "### Script To Execute:\n",
    "# create virtual environment\n",
    "python3 -m venv \"env\"\n",
    "\n",
    "# activate environment\n",
    "source \"env/bin/activate\"\n",
    "\n",
    "# install packages into environment\n",
    "python3 -m pip install numpy\n",
    "\n",
    "# With python environment setup,\n",
    "#    ...  we request \"stage 2\" be scheduled\n",
    "sbatch \"example-four-stage2.sh\""
   ]
  },
  {
   "cell_type": "markdown",
   "metadata": {
    "slideshow": {
     "slide_type": "skip"
    }
   },
   "source": [
    "#### Stage 2: `example-four-stage-2.sh`"
   ]
  },
  {
   "cell_type": "code",
   "execution_count": null,
   "metadata": {
    "scrolled": true,
    "slideshow": {
     "slide_type": "skip"
    }
   },
   "outputs": [],
   "source": [
    "%%file \"example-four-stage2.sh\"\n",
    "#!/bin/bash\n",
    "### Job Parameters:\n",
    "# Request Job-Array\n",
    "#SBATCH --array 1-20%10 # the array has 100 sub-jobs (labeled 1 to 100) \n",
    "                        # .. with at most 10 sub-jobs running at \n",
    "                        # .. any given point.\n",
    "# Generic Info for \"sub-job\"\n",
    "#SBATCH --job-name \"Stage 2\"               # sub-job name\n",
    "#SBATCH --output   \"logs/stage2.%A.%a.log\" # output file pattern\n",
    "                                           # .. %A -> array-job-id\n",
    "                                           # .. %a -> array-task-id \n",
    "# Resources To Request For Each \"sub-job\"\n",
    "#SBATCH --ntasks 1\n",
    "#SBATCH --cpus-per-task 1\n",
    "#SBATCH --mem-per-cpu 500\n",
    "#SBATCH --time 00:45:00  \n",
    "\n",
    "### Script To Execute:\n",
    "source \"env/bin/activate\"         # activate environment from \"stage 1\"\n",
    "python3 \"scripts/example-four.py\" # execute python script"
   ]
  },
  {
   "cell_type": "markdown",
   "metadata": {
    "slideshow": {
     "slide_type": "skip"
    }
   },
   "source": [
    "#### Python Script: `example-four.py`"
   ]
  },
  {
   "cell_type": "code",
   "execution_count": null,
   "metadata": {},
   "outputs": [],
   "source": [
    "%%file \"example-four.py\"\n",
    "\"\"\"\n",
    " File: `example-four.py`\n",
    " Synopsis:\n",
    "    estimate condition number and print results for \n",
    "  a single random perturbation of the nxn identity matrix \n",
    "  (where n is fixed).\n",
    "\"\"\"\n",
    "from numpy import eye\n",
    "from numpy.random import uniform\n",
    "from numpy.linalg import cond\n",
    "\n",
    "n = 1000\n",
    "eps = 0.01\n",
    "\n",
    "I = eye(n) # nxn identity matix\n",
    "X = uniform(size=[n,n])\n",
    "\n",
    "# generate perturbation `Z`\n",
    "Z = I + eps*uniform()*X \n",
    "\n",
    "# estimate condition number of `Z`\n",
    "c = cond(Z)\n",
    "\n",
    "# print results\n",
    "print(f'{c}', flush=True)"
   ]
  },
  {
   "cell_type": "markdown",
   "metadata": {
    "slideshow": {
     "slide_type": "skip"
    }
   },
   "source": [
    "#### Submiting & Results"
   ]
  },
  {
   "cell_type": "markdown",
   "metadata": {
    "slideshow": {
     "slide_type": "skip"
    }
   },
   "source": [
    "To see what's happening we'll need to switch to a terminal and use the following script."
   ]
  },
  {
   "cell_type": "code",
   "execution_count": null,
   "metadata": {
    "scrolled": true,
    "slideshow": {
     "slide_type": "skip"
    }
   },
   "outputs": [],
   "source": [
    "%%file \"watch-queue.sh\"\n",
    "#!/bin/bash\n",
    "\n",
    "# submit seed job (stage1)\n",
    "sbatch \"example-four-stage1.sh\"\n",
    "\n",
    "# watch queue\n",
    "ii=0 \n",
    "while [ $ii -lt 1000 ]; do\n",
    "    squeue --user $USER --name \"Stage 1: Example 4\",\"Stage 2: Example 4\"\n",
    "    sleep 0.7 && clear\n",
    "    ii=$((ii+1))\n",
    "done"
   ]
  },
  {
   "cell_type": "markdown",
   "metadata": {},
   "source": [
    "### Example 5: Heterogenous Job"
   ]
  },
  {
   "cell_type": "code",
   "execution_count": null,
   "metadata": {},
   "outputs": [],
   "source": [
    "# IDEA:\n",
    "#.  request a two-part job, one portion is the server\n",
    "#. the other portion is a client. Start both of them\n",
    "#. using one `srun` call. \n",
    "#.    SEE EXAMPLES HERE: https://slurm.schedmd.com/heterogeneous_jobs.html \n",
    "#. "
   ]
  }
 ],
 "metadata": {
  "kernelspec": {
   "display_name": "Bash",
   "language": "bash",
   "name": "calysto_bash"
  },
  "language_info": {
   "file_extension": ".sh",
   "help_links": [
    {
     "text": "MetaKernel Magics",
     "url": "https://metakernel.readthedocs.io/en/latest/source/README.html"
    }
   ],
   "mimetype": "text/x-sh",
   "name": "bash",
   "version": "0.2.2"
  }
 },
 "nbformat": 4,
 "nbformat_minor": 4
}
