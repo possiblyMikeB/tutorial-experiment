{
 "cells": [
  {
   "cell_type": "code",
   "execution_count": 2,
   "id": "477e7fc6-5627-43c1-ab9a-7766361986cc",
   "metadata": {},
   "outputs": [],
   "source": [
    "# for plotting.. what else\n",
    "import matplotlib.pyplot as plt\n",
    "\n",
    "# pull in ODE def & solver\n",
    "from three_body import three_body_ode, solve"
   ]
  },
  {
   "cell_type": "markdown",
   "id": "c41da5de-dbb1-4b01-9126-228cbc723f6c",
   "metadata": {},
   "source": [
    "## Example Three Body Computation\n",
    "We'll find an approximate the solution using the value of $R_0$ below"
   ]
  },
  {
   "cell_type": "code",
   "execution_count": 3,
   "id": "1206247a-f7af-4df2-aaac-14531f119579",
   "metadata": {},
   "outputs": [
    {
     "data": {
      "text/plain": [
       "array([[[-1.2       , -0.8       ],\n",
       "        [ 1.        , -0.83      ],\n",
       "        [ 1.1       ,  0.8       ]],\n",
       "\n",
       "       [[-1.19999979, -0.79999996],\n",
       "        [ 0.99999994, -0.82999983],\n",
       "        [ 1.09999995,  0.79999977]],\n",
       "\n",
       "       [[-1.19999917, -0.79999983],\n",
       "        [ 0.99999974, -0.82999932],\n",
       "        [ 1.09999978,  0.79999906]],\n",
       "\n",
       "       ...,\n",
       "\n",
       "       [[ 0.01779596, -3.96171236],\n",
       "        [ 0.01973524, -3.96095831],\n",
       "        [ 1.50673095,  6.61195546]],\n",
       "\n",
       "       [[ 0.01804623, -3.96136095],\n",
       "        [ 0.01956476, -3.9614291 ],\n",
       "        [ 1.50677705,  6.61230022]],\n",
       "\n",
       "       [[ 0.01848101, -3.96153585],\n",
       "        [ 0.01929669, -3.9616215 ],\n",
       "        [ 1.50682315,  6.61264496]]])"
      ]
     },
     "execution_count": 3,
     "metadata": {},
     "output_type": "execute_result"
    }
   ],
   "source": [
    "\n",
    "R0 = np.array([\n",
    "    [-1.2, -0.80],\n",
    "    [ 1.0, -0.83],\n",
    "    [ 1.1,  0.80]\n",
    "])\n",
    "\n",
    "sol = solve(R0)\n",
    "sol\n"
   ]
  },
  {
   "cell_type": "markdown",
   "id": "6f86ecda-4148-4cf7-9e31-89af6c254b5b",
   "metadata": {},
   "source": [
    "We'll now plot the computed trajectories, indicating the initial positions of each body with a red cross symbol."
   ]
  },
  {
   "cell_type": "code",
   "execution_count": 4,
   "id": "66ac3b15-1af0-46f3-a745-d8c39a7fe529",
   "metadata": {},
   "outputs": [
    {
     "data": {
      "text/plain": [
       "<matplotlib.collections.PathCollection at 0x15211ab18af0>"
      ]
     },
     "execution_count": 4,
     "metadata": {},
     "output_type": "execute_result"
    },
    {
     "data": {
      "image/png": "[encoded data removed]",
      "text/plain": [
       "<Figure size 432x288 with 1 Axes>"
      ]
     },
     "metadata": {
      "needs_background": "light"
     },
     "output_type": "display_data"
    }
   ],
   "source": [
    "\n",
    "plt.title(f'$R_0 = [{\" ,\".join(map(str,R0.flatten()))}]$')\n",
    "for ii in range(3):\n",
    "    plt.plot(sol[:,ii,0],sol[:,ii,1])\n",
    "    \n",
    "plt.scatter(\n",
    "    sol[0,:,0], sol[0,:,1],\n",
    "    c='r', marker='+', s=30\n",
    ")\n"
   ]
  },
  {
   "cell_type": "markdown",
   "id": "7fc41dc9-ca50-4be9-815c-ccdd6c363096",
   "metadata": {
    "tags": []
   },
   "source": [
    "## Specializing On A Familty of Initial Values\n",
    "For the purposes of this example, we're interested in collecting information about the behavior of solutions to the three body problem (in 2D) when the initial positions ($r_1$, $r_2$ and $r_3$) are chosen so as to satisfy:\n",
    "$$\n",
    "\\begin{align}\n",
    " r_1 & \\sim \\mathcal{N}_2\\left([-1,-1],\\ 0.25\\cdot I_2\\right) \\\\\n",
    " r_2 & \\sim \\mathcal{N}_2\\left([\\ \\ \\ 1,-1],\\ 0.25 \\cdot I_2\\right) \\\\\n",
    " r_3 & \\sim \\mathcal{N}_2\\left([\\ \\ \\ 1, \\ \\ \\ 1],\\ 0.25\\cdot I_2\\right) \\\\\n",
    "\\end{align}\n",
    "$$\n"
   ]
  },
  {
   "cell_type": "markdown",
   "id": "25a5dea4-6d8c-46f9-bce4-5666e647a450",
   "metadata": {},
   "source": [
    "Translating this to something tangible, it can be understood as requiring that we only compute solutions with initial values chosen randomly using a function like:"
   ]
  },
  {
   "cell_type": "code",
   "execution_count": 5,
   "id": "9f81bec7-28b5-496a-88d5-c1c5910dad33",
   "metadata": {},
   "outputs": [],
   "source": [
    "\n",
    "random_position = lambda : np.array([\n",
    "      [np.random.normal(-1, 0.25), np.random.normal(-1, 0.25)],\n",
    "      [np.random.normal( 1, 0.25), np.random.normal(-1, 0.25)],\n",
    "      [np.random.normal( 1, 0.25), np.random.normal( 1, 0.25)]\n",
    "  ])\n"
   ]
  },
  {
   "cell_type": "markdown",
   "id": "1a8797a8-04f6-4145-9588-09bf7a44aa18",
   "metadata": {},
   "source": [
    "However, because of the way pseudo-random numbers are generated by `numpy`; we can't simply put the code from the above cell in `three_body.py` then run it a bunch of times, since this would result in extremely poor sampling/parameter-selection"
   ]
  },
  {
   "cell_type": "markdown",
   "id": "9dab2a2f-8d17-4469-8b41-4f25248f11aa",
   "metadata": {},
   "source": [
    "### Workaround\n",
    "We have to be deliberate with how we choose and distribute the initial positions. There are several ways we can accomplish this vague task, however in this example we'll only concern ourselves with one.\n",
    "\n",
    "In this case, what we are going to do is create one very large sample/parameter-list which satisfies the conditions we are looking for, and then use `SLURM` to schedule the computations."
   ]
  },
  {
   "cell_type": "code",
   "execution_count": 6,
   "id": "711b2228-55e1-40ea-b166-849210630c54",
   "metadata": {},
   "outputs": [],
   "source": [
    "# sample-size/number of parameters\n",
    "N = 5000\n",
    "\n",
    "# generating and sorting the sample/parameters\n",
    "with open('parameters.txt', 'w') as params_file:\n",
    "    for _ in range(N):\n",
    "        # observe a random positiion \n",
    "        initial_pos = random_position().flatten()\n",
    "        # store in `params_file` for use later\n",
    "        print(' '.join(['{:0.5f}']*6).format(*initial_pos), file=params_file)\n"
   ]
  },
  {
   "cell_type": "markdown",
   "id": "6b3adc80-79a3-4844-9db4-466faebbdc2e",
   "metadata": {},
   "source": [
    "### Where Job Arrays Come In\n",
    "We can index the `parameters.txt` using line numbers, and this is fairly standard to do:"
   ]
  },
  {
   "cell_type": "code",
   "execution_count": 1,
   "id": "17d8082a-bfe8-4b1e-a82b-73aec02a8dd1",
   "metadata": {},
   "outputs": [
    {
     "name": "stdout",
     "output_type": "stream",
     "text": [
      "-0.74574 -1.21814 0.83396 -1.07720 0.81459 0.85784\n"
     ]
    }
   ],
   "source": [
    "!sed -n 2134p \"parameters.txt\""
   ]
  },
  {
   "cell_type": "markdown",
   "id": "e1dcfd7c-09b3-4de2-895a-eabcaa450021",
   "metadata": {},
   "source": [
    "What's important about this is that SLURM Job Arrays provide us a sane mechanism we can use to index a collection of jobs.\n",
    "\n",
    "It does this by making available the `SLURM_ARRAY_TASK_ID` environment variable inside of each executing job for the array. "
   ]
  },
  {
   "cell_type": "code",
   "execution_count": null,
   "id": "eed222d1-55a9-44a3-9f3c-da13b8f50b35",
   "metadata": {},
   "outputs": [],
   "source": [
    "\n",
    "#SBATCH --array 1-1000%25\n"
   ]
  }
 ],
 "metadata": {
  "kernelspec": {
   "display_name": "Python 3.8",
   "language": "python",
   "name": "python3"
  },
  "language_info": {
   "codemirror_mode": {
    "name": "ipython",
    "version": 3
   },
   "file_extension": ".py",
   "mimetype": "text/x-python",
   "name": "python",
   "nbconvert_exporter": "python",
   "pygments_lexer": "ipython3",
   "version": "3.8.6"
  }
 },
 "nbformat": 4,
 "nbformat_minor": 5
}
