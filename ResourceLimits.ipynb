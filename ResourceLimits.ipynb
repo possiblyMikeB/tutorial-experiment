{
 "cells": [
  {
   "cell_type": "markdown",
   "id": "e0a3db00-adbf-4509-883c-d2a8c050db1b",
   "metadata": {},
   "source": [
    "# CPU Limits & Usage\n",
    "The default JupyterLab interface provides a CPU & Memory usage indicator in the upper right-hand corner of the application. To see the CPU indicator in action, run the follow cell.\n"
   ]
  },
  {
   "cell_type": "code",
   "execution_count": 5,
   "id": "ca8d6740-7953-4347-8d19-c874189fa261",
   "metadata": {},
   "outputs": [],
   "source": [
    "\n",
    "ii=0\n",
    "while ii <= 2*10**8:\n",
    "    ii=ii+1\n",
    "    "
   ]
  },
  {
   "cell_type": "markdown",
   "id": "8022cd66-64d8-4f30-9457-2b004355b0bf",
   "metadata": {},
   "source": [
    "\n",
    "Because you have been alloted 2 CPU cores, you should have seen the graph only go up to approximately 50%.  Moreover, because of the constraints placed on this running instance, you will never be able to use more than the alloted 2 CPU cores."
   ]
  },
  {
   "cell_type": "markdown",
   "id": "e704a764-5168-4cd4-98e3-60f9764c37b8",
   "metadata": {},
   "source": [
    "# Memory Limits & Usage\n",
    "Unlike CPU cycles, memory cannot be oversubscribed (e.g. two people cannot share 1 byte without pre-conditions.) Because of this, memory limits are enforced without as *hard limits*; that is, the system will select and kill one of your running processes to keep you from violating the limit.\n",
    "\n",
    "For an example of what that looks like, run the following cell."
   ]
  },
  {
   "cell_type": "code",
   "execution_count": null,
   "id": "374fe4ce-92fa-42af-a1c6-e33bbb856d08",
   "metadata": {},
   "outputs": [],
   "source": [
    "# this consumes exponentially increasing amounts of memory.\n",
    "big='small'\n",
    "while True:\n",
    "    big=big+big"
   ]
  },
  {
   "cell_type": "markdown",
   "id": "365d554f-6eee-4da0-9edc-2da30da5f090",
   "metadata": {},
   "source": [
    "You should have seen the Memory usage indicator become red and approach almost 100% before the kernel for this notebook was selected for death by system's \"Out of Memory Killer.\""
   ]
  },
  {
   "cell_type": "code",
   "execution_count": null,
   "id": "9b350120-e92c-4d33-bf5d-c05d9677606e",
   "metadata": {},
   "outputs": [],
   "source": []
  }
 ],
 "metadata": {
  "kernelspec": {
   "display_name": "Python 3.8",
   "language": "python",
   "name": "python3"
  },
  "language_info": {
   "codemirror_mode": {
    "name": "ipython",
    "version": 3
   },
   "file_extension": ".py",
   "mimetype": "text/x-python",
   "name": "python",
   "nbconvert_exporter": "python",
   "pygments_lexer": "ipython3",
   "version": "3.8.6"
  }
 },
 "nbformat": 4,
 "nbformat_minor": 5
}
