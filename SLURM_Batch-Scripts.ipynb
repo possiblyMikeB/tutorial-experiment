{
 "cells": [
  {
   "cell_type": "markdown",
   "metadata": {
    "slideshow": {
     "slide_type": "slide"
    }
   },
   "source": [
    "*Press `Space` to procced.*"
   ]
  },
  {
   "cell_type": "markdown",
   "metadata": {
    "slideshow": {
     "slide_type": "subslide"
    }
   },
   "source": [
    "Before we begin, let's take a second to familiarize you with this environment. When you're ready, press `Space`."
   ]
  },
  {
   "cell_type": "markdown",
   "metadata": {
    "slideshow": {
     "slide_type": "subslide"
    }
   },
   "source": [
    "\n",
    "Pressing `Space` will always move you one frame *forward*."
   ]
  },
  {
   "cell_type": "markdown",
   "metadata": {
    "slideshow": {
     "slide_type": "subslide"
    }
   },
   "source": [
    "*(See what I mean?)*\n"
   ]
  },
  {
   "cell_type": "markdown",
   "metadata": {
    "slideshow": {
     "slide_type": "subslide"
    }
   },
   "source": [
    "`Shift`+`Space` will move you one frame *backward* (give it a try.)\n"
   ]
  },
  {
   "cell_type": "markdown",
   "metadata": {
    "slideshow": {
     "slide_type": "subslide"
    }
   },
   "source": [
    "Pressing `Enter` while a cell is highlighted puts the cell into *edit-mode.* In this mode you can modify the contents, allowing you to do simple tasks."
   ]
  },
  {
   "cell_type": "code",
   "execution_count": null,
   "metadata": {
    "slideshow": {
     "slide_type": "-"
    }
   },
   "outputs": [],
   "source": [
    "# TASK: put something inside the quotes.\n",
    "message=\"\"\n",
    "\n",
    "# use SHIFT+ENTER to exit and\n",
    "#   don't forget to press SPACE."
   ]
  },
  {
   "cell_type": "markdown",
   "metadata": {
    "slideshow": {
     "slide_type": "subslide"
    }
   },
   "source": [
    "Pressing `Shift`+`Enter` while editing or highlighting a cell causes the contents of the cell to be executed and displayed."
   ]
  },
  {
   "cell_type": "code",
   "execution_count": null,
   "metadata": {},
   "outputs": [],
   "source": [
    "# TASK: execute this cell (also don't forget about SPACE.)\n",
    "echo \"IMPORTANT: ${message}!\""
   ]
  },
  {
   "cell_type": "markdown",
   "metadata": {
    "slideshow": {
     "slide_type": "slide"
    }
   },
   "source": [
    "Excellent! Let's get to the real thing!"
   ]
  },
  {
   "cell_type": "markdown",
   "metadata": {
    "slideshow": {
     "slide_type": "slide"
    }
   },
   "source": [
    "\n",
    "# SLURM: Jobs & Batch Scripts"
   ]
  },
  {
   "cell_type": "markdown",
   "metadata": {
    "slideshow": {
     "slide_type": "subslide"
    }
   },
   "source": [
    "## What Is A Job?"
   ]
  },
  {
   "cell_type": "markdown",
   "metadata": {
    "slideshow": {
     "slide_type": "fragment"
    }
   },
   "source": [
    "Fundamentally, a **job**, consists of two things: an allotment of resources & snippets of code to execute using that allotment. "
   ]
  },
  {
   "cell_type": "markdown",
   "metadata": {
    "slideshow": {
     "slide_type": "subslide"
    }
   },
   "source": [
    "*This means that when we request that SLURM preform some task (say, executing a snippet of code) we are also requesting a resource allotment which will be reserved for the execution of that task.*"
   ]
  },
  {
   "cell_type": "markdown",
   "metadata": {
    "slideshow": {
     "slide_type": "slide"
    }
   },
   "source": [
    "## How Do We Request Resources & Perform Tasks?"
   ]
  },
  {
   "cell_type": "markdown",
   "metadata": {
    "slideshow": {
     "slide_type": "fragment"
    }
   },
   "source": [
    "There are a couple of ways we can request a resource allotment and perform tasks.  "
   ]
  },
  {
   "cell_type": "markdown",
   "metadata": {
    "slideshow": {
     "slide_type": "fragment"
    }
   },
   "source": [
    "We might use the command `salloc` to request an allotment (by providing arguments on the command-line) and then interactively run code using the the resources once they become available. "
   ]
  },
  {
   "cell_type": "markdown",
   "metadata": {
    "slideshow": {
     "slide_type": "fragment"
    }
   },
   "source": [
    "Alternatively, if we want for the task to be performed without needing us interact with it, we can use the command `sbatch`.  \n",
    "\n",
    "Moreover, learning the basics of the `sbatch` command is the purpose of this tutorial."
   ]
  },
  {
   "cell_type": "markdown",
   "metadata": {
    "slideshow": {
     "slide_type": "slide"
    }
   },
   "source": [
    "### The Command `sbatch`"
   ]
  },
  {
   "cell_type": "markdown",
   "metadata": {
    "slideshow": {
     "slide_type": "fragment"
    }
   },
   "source": [
    "\n",
    "When provided the path of a shell-script, the `sbatch`\n",
    "command searches the script for lines beginning with `#SBATCH`.  Any line starting with `#SBATCH` occuring during the preamble (*before any commands*) is treated as meta-data specifying some parameters for a job we want to create."
   ]
  },
  {
   "cell_type": "markdown",
   "metadata": {
    "slideshow": {
     "slide_type": "fragment"
    }
   },
   "source": [
    "If these parameters describe a *feasible* job, that job is created and queued until an appropriate resource allotment (matching the provided parameters) can be made. "
   ]
  },
  {
   "cell_type": "markdown",
   "metadata": {
    "slideshow": {
     "slide_type": "fragment"
    }
   },
   "source": [
    "Once an appropriate allotement becomes available, the provided shell-script is executed using the alloted resources."
   ]
  },
  {
   "cell_type": "markdown",
   "metadata": {
    "slideshow": {
     "slide_type": "subslide"
    }
   },
   "source": [
    "---\n",
    "Any shell-script containing meta-data that `sbatch` can understand *(say, describing a resource request or providing other ambient details)* is called a **batch-script** (or job-script).\n",
    "\n",
    "---"
   ]
  },
  {
   "cell_type": "markdown",
   "metadata": {
    "slideshow": {
     "slide_type": "subslide"
    }
   },
   "source": [
    "### **Example 1**"
   ]
  },
  {
   "cell_type": "markdown",
   "metadata": {
    "slideshow": {
     "slide_type": "subslide"
    }
   },
   "source": [
    "#### Script: `example-one.sh`"
   ]
  },
  {
   "cell_type": "code",
   "execution_count": null,
   "metadata": {
    "slideshow": {
     "slide_type": "-"
    }
   },
   "outputs": [],
   "source": [
    "%%file example-one.sh\n",
    "#!/bin/bash\n",
    "\n",
    "### Job Parameters:  \n",
    "#SBATCH --job-name \"My Letter\"     # job's name\n",
    "#SBATCH --output   \"letter.%j.log\" # output log (%j is replaced with job's id)\n",
    "#SBATCH --comment  \"A humble job.\" # comment about job\n",
    "\n",
    "### Script To Execute:\n",
    "amount=$((15 + RANDOM % 30)) # number between 15 and 30\n",
    "memory=$((SLURM_MEM_PER_CPU * SLURM_CPUS_PER_TASK * 1024 * 1024))\n",
    "draft=(\" Dear ${USER},\\n\\n\"\n",
    "       \"  I hope this letter finds you well; it is a glorious $(date +%A)\\n\"\n",
    "       \"in $(date +%B) and I find myself executing on \"$(hostname -s)\" with\\n\"\n",
    "       \"access to ${memory} bytes of memory and $(nproc) cpu(s). Knowing that\\n\"\n",
    "       \"these resources are shared, I have chosen to surrender ${amount}\\n\"\n",
    "       \"seconds of my alloted time to processes less fortunate than I.\\n\\n\"\n",
    "       \"Cheers,\\n\"\n",
    "       \"  Job ${SLURM_JOB_ID}\\n\")\n",
    "\n",
    "# write letter & take a nap.\n",
    "echo -e \"${draft[@]}\" && sleep ${amount} "
   ]
  },
  {
   "cell_type": "markdown",
   "metadata": {},
   "source": [
    "Use `Shift`+`Enter` to create the script `example-one.sh`."
   ]
  },
  {
   "cell_type": "markdown",
   "metadata": {
    "slideshow": {
     "slide_type": "subslide"
    }
   },
   "source": [
    "#### Submiting The Script & Getting Results"
   ]
  },
  {
   "cell_type": "markdown",
   "metadata": {
    "slideshow": {
     "slide_type": "fragment"
    }
   },
   "source": [
    "To submit the job to SLURM, we use the `sbatch` command,"
   ]
  },
  {
   "cell_type": "code",
   "execution_count": null,
   "metadata": {},
   "outputs": [],
   "source": [
    "# execute this cell using SHIFT+ENTER\n",
    "sbatch example-one.sh "
   ]
  },
  {
   "cell_type": "markdown",
   "metadata": {
    "slideshow": {
     "slide_type": "fragment"
    }
   },
   "source": [
    "Once a job has been successfully submitted, it will appear in the SLURM queue until it completes. To view jobs currently in the queue, we use the command `squeue`"
   ]
  },
  {
   "cell_type": "code",
   "execution_count": null,
   "metadata": {},
   "outputs": [],
   "source": [
    "# execute this cell using SHIFT+ENTER\n",
    "squeue"
   ]
  },
  {
   "cell_type": "markdown",
   "metadata": {
    "slideshow": {
     "slide_type": "subslide"
    }
   },
   "source": [
    "Let's finish this example by taking a look at the output from the job."
   ]
  },
  {
   "cell_type": "code",
   "execution_count": null,
   "metadata": {
    "slideshow": {
     "slide_type": "-"
    }
   },
   "outputs": [],
   "source": [
    "# TASK:\n",
    "#    Use the the \"Job Parameters\" section of `example-one.sh` and \n",
    "#  common sense to determine the filename of the output log. Put this\n",
    "#  filename in the quotes below and run the cell.\n",
    "\n",
    "cat \"\""
   ]
  },
  {
   "cell_type": "markdown",
   "metadata": {},
   "source": [
    "(pressing `SHIFT`+`SPACE` allows you to move in reverse, and `SPACE` lets you move forward.)"
   ]
  },
  {
   "cell_type": "markdown",
   "metadata": {
    "slideshow": {
     "slide_type": "subslide"
    }
   },
   "source": [
    "### **Example 2**"
   ]
  },
  {
   "cell_type": "markdown",
   "metadata": {
    "slideshow": {
     "slide_type": "subslide"
    }
   },
   "source": [
    "#### Script: `example-two.sh`"
   ]
  },
  {
   "cell_type": "code",
   "execution_count": null,
   "metadata": {
    "slideshow": {
     "slide_type": "-"
    }
   },
   "outputs": [],
   "source": [
    "%%file \"example-two.sh\"\n",
    "#!/bin/bash\n",
    "### Job Parameters:\n",
    "# Generic job info\n",
    "#SBATCH --job-name  \"Arguments\" # display name\n",
    "#SBATCH --output    \"out.log\"   # where to log terminal output \n",
    "#SBATCH --error     \"err.log\"   #  .. and error messages\n",
    "#SBATCH --open-mode truncate    # always overwrite log files \n",
    "\n",
    "# Resources to request\n",
    "#SBATCH --ntasks 1          # number of tasks we can perform (in parallel)\n",
    "#SBATCH --cpus-per-task 1   # num. cpus each task will require\n",
    "#SBATCH --mem-per-cpu 1024  # memory required per cpu (in megabytes)\n",
    "#SBATCH --time 1:00:00      # time the job should be allowed to run (HH:MM:SS) \n",
    "\n",
    "### Script To Execute:\n",
    "\n",
    "# loops through provided arguments.\n",
    "for item in \"$@\"; do\n",
    "    ## prints the length of the argument (as a string)\n",
    "    echo \"The argument '${item}' is ${#item} characters long.\"\n",
    "    \n",
    "    ## and then does something random...\n",
    "    amount=$((RANDOM % 10)) # choose `amount` to sleep\n",
    "    sleep 0.${amount}       # sleep for `amount/10` seconds\n",
    "    echo \"Slept for 0.${amount} seconds.\"\n",
    "done"
   ]
  },
  {
   "cell_type": "markdown",
   "metadata": {},
   "source": [
    "Use `Shift`+`Enter` to create the script `example-two.sh`."
   ]
  },
  {
   "cell_type": "markdown",
   "metadata": {
    "slideshow": {
     "slide_type": "subslide"
    }
   },
   "source": [
    "#### Submiting The Script & Getting Results"
   ]
  },
  {
   "cell_type": "markdown",
   "metadata": {
    "slideshow": {
     "slide_type": "fragment"
    }
   },
   "source": [
    "The cool thing about job-scripts is they are still shell-scripts. This means we can execute them without needing to go through SLURM, so the normal testing & development workflow is available."
   ]
  },
  {
   "cell_type": "code",
   "execution_count": null,
   "metadata": {
    "scrolled": true,
    "slideshow": {
     "slide_type": "-"
    }
   },
   "outputs": [],
   "source": [
    "# let's test the script (execute this cell using SHIFT+ENTER)\n",
    "bash example-two.sh \"first\" \"quoted\" third{0..2} \"another argmuent\" "
   ]
  },
  {
   "cell_type": "markdown",
   "metadata": {
    "slideshow": {
     "slide_type": "fragment"
    }
   },
   "source": [
    "If you want to experiment a bit, you can modify the script `example-two.sh` by navigating to the relevant code-cell, modifying it's content, and saving the changes by running the cell.\n",
    "\n",
    "(pressing `SHIFT`+`SPACE` allows you to move in reverse and `SPACE` lets you move forward.)"
   ]
  },
  {
   "cell_type": "markdown",
   "metadata": {
    "slideshow": {
     "slide_type": "subslide"
    }
   },
   "source": [
    "Once satisfied with the script, let's submit the job to SLURM *(like in the previous example)* and provide a sequence of command-line arguments which we want passed to the script when it's executed."
   ]
  },
  {
   "cell_type": "code",
   "execution_count": null,
   "metadata": {
    "scrolled": true,
    "slideshow": {
     "slide_type": "-"
    }
   },
   "outputs": [],
   "source": [
    "# execute this cell using SHIFT+ENTER\n",
    "sbatch example-two.sh \"lion\" \"tiger\" \"bear\" argument{1..100} "
   ]
  },
  {
   "cell_type": "markdown",
   "metadata": {
    "slideshow": {
     "slide_type": "fragment"
    }
   },
   "source": [
    "With the job submitted, let's inspect the queue to verify it's listed. However, instead of looking at all jobs in the queue, we'll restrict to only jobs associated with our user.  To do this we need to use the `--user` argument for `squeue`."
   ]
  },
  {
   "cell_type": "code",
   "execution_count": null,
   "metadata": {
    "scrolled": true,
    "slideshow": {
     "slide_type": "-"
    }
   },
   "outputs": [],
   "source": [
    "# execute this cell using SHIFT+ENTER\n",
    "squeue --user $USER"
   ]
  },
  {
   "cell_type": "markdown",
   "metadata": {
    "slideshow": {
     "slide_type": "subslide"
    }
   },
   "source": [
    "*How did we know about the `--user` argument?*"
   ]
  },
  {
   "cell_type": "markdown",
   "metadata": {
    "slideshow": {
     "slide_type": "fragment"
    }
   },
   "source": [
    "We used `man`. The system command `man` is an important resource when using UNIX/Linux based systems.  The command provides detailed documentation (or *manuals*) for various topics, among those topics you'll find \"*usage and runtime behavior*\" information for a large portion of commands available at a terminal."
   ]
  },
  {
   "cell_type": "markdown",
   "metadata": {
    "slideshow": {
     "slide_type": "-"
    }
   },
   "source": [
    "In the case of `squeue`, we can learn a lot about what sort of arguments it accepts by skimming the documentation presented by running `man squeue`. For example, a passage detailing how to use the argument `--user` is contained within."
   ]
  },
  {
   "cell_type": "code",
   "execution_count": null,
   "metadata": {
    "slideshow": {
     "slide_type": "subslide"
    }
   },
   "outputs": [],
   "source": [
    "# if you want to see an example manual press SHIFT+ENTER, \n",
    "man squeue"
   ]
  },
  {
   "cell_type": "markdown",
   "metadata": {
    "slideshow": {
     "slide_type": "subslide"
    }
   },
   "source": [
    "To finish off this example, let's take a look at the output generated by the job so far."
   ]
  },
  {
   "cell_type": "code",
   "execution_count": null,
   "metadata": {
    "slideshow": {
     "slide_type": "-"
    }
   },
   "outputs": [],
   "source": [
    "# execute this cell using SHIFT+ENTER\n",
    "cat out.log"
   ]
  },
  {
   "cell_type": "markdown",
   "metadata": {
    "slideshow": {
     "slide_type": "subslide"
    }
   },
   "source": [
    "### **Example 3**"
   ]
  },
  {
   "cell_type": "markdown",
   "metadata": {
    "slideshow": {
     "slide_type": "subslide"
    }
   },
   "source": [
    "#### Script: `example-three.sh`"
   ]
  },
  {
   "cell_type": "code",
   "execution_count": null,
   "metadata": {
    "scrolled": true,
    "slideshow": {
     "slide_type": "-"
    }
   },
   "outputs": [],
   "source": [
    "%%file \"example-three.sh\"\n",
    "#!/bin/bash\n",
    "### Job Parameters:\n",
    "#SBATCH --job-name \"Recursive\"     # job name\n",
    "#SBATCH --output   \"recursive.log\" # place to log output\n",
    "#SBATCH --open-mode append         # always append to logs\n",
    "#SBATCH --begin now+10             # specify when the job should start\n",
    "                                   # .. (waits 10 seconds after submission)\n",
    "### Script To Execute:\n",
    "# print job detials\n",
    "echo \"Running job $SLURM_JOB_ID\"\n",
    "echo \"Batch script file: $0\"\n",
    "\n",
    "# submit new job using *this* script (recursion)\n",
    "sbatch \"$0\""
   ]
  },
  {
   "cell_type": "markdown",
   "metadata": {},
   "source": [
    "Use `Shift`+`Enter` to create the script `example-three.sh`."
   ]
  },
  {
   "cell_type": "markdown",
   "metadata": {
    "slideshow": {
     "slide_type": "subslide"
    }
   },
   "source": [
    "#### Submiting The Script & Getting Results"
   ]
  },
  {
   "cell_type": "markdown",
   "metadata": {
    "slideshow": {
     "slide_type": "-"
    }
   },
   "source": [
    "We'll submit the job to SLURM as normal, however this time we will request that it be considered for execution immediately."
   ]
  },
  {
   "cell_type": "code",
   "execution_count": null,
   "metadata": {
    "slideshow": {
     "slide_type": "fragment"
    }
   },
   "outputs": [],
   "source": [
    "# execute this cell using SHIFT+ENTER\n",
    "sbatch --begin now example-three.sh"
   ]
  },
  {
   "cell_type": "markdown",
   "metadata": {
    "slideshow": {
     "slide_type": "fragment"
    }
   },
   "source": [
    "As it turns out, any piece of information which can be provided in a batch-script's `#SBATCH` lines, can be directly passed to `sbatch` as a command-line argument (and vice versa). "
   ]
  },
  {
   "cell_type": "markdown",
   "metadata": {
    "slideshow": {
     "slide_type": "subslide"
    }
   },
   "source": [
    "As an example, let's submit a job using the same script, but have the initial job request 1G of memory per cpu, and not start running until after tomorrow at mid-night."
   ]
  },
  {
   "cell_type": "code",
   "execution_count": null,
   "metadata": {
    "slideshow": {
     "slide_type": "-"
    }
   },
   "outputs": [],
   "source": [
    "# execute this cell using SHIFT+ENTER\n",
    "sbatch --mem-per-cpu 1024 --begin tomorrow example-three.sh "
   ]
  },
  {
   "cell_type": "markdown",
   "metadata": {
    "slideshow": {
     "slide_type": "subslide"
    }
   },
   "source": [
    "Let's check the status of the jobs we've submitted. This time, we'll only request information about jobs with the name \"Recursive\" associated with our user."
   ]
  },
  {
   "cell_type": "code",
   "execution_count": null,
   "metadata": {
    "scrolled": true,
    "slideshow": {
     "slide_type": "-"
    }
   },
   "outputs": [],
   "source": [
    "# execute this cell using SHIFT+ENTER\n",
    "squeue --user $USER --name \"Recursive\" "
   ]
  },
  {
   "cell_type": "markdown",
   "metadata": {
    "slideshow": {
     "slide_type": "subslide"
    }
   },
   "source": [
    "Since these jobs are recursive, they will keep resubmitting themselves *forever*. \n",
    "\n",
    "As a result, it's important for us to stop (or *cancel*) any instances which appear in the queue.  To accomplish this, we'll use the command `scancel`. "
   ]
  },
  {
   "cell_type": "markdown",
   "metadata": {
    "slideshow": {
     "slide_type": "fragment"
    }
   },
   "source": [
    "This command can handle some of the same arguments as `squeue`. In particular, to cancel all jobs with the name \"Recursive\" associated with our user, we just run,"
   ]
  },
  {
   "cell_type": "code",
   "execution_count": null,
   "metadata": {
    "slideshow": {
     "slide_type": "-"
    }
   },
   "outputs": [],
   "source": [
    "# execute this cell using SHIFT+ENTER\n",
    "scancel --user $USER --name \"Recursive\""
   ]
  },
  {
   "cell_type": "markdown",
   "metadata": {
    "slideshow": {
     "slide_type": "subslide"
    }
   },
   "source": [
    "Finally, if you want historical information about the jobs you've submitted, you use the `sacct` command. Moreover, it has argments which are similar to those of `squeue`. "
   ]
  },
  {
   "cell_type": "markdown",
   "metadata": {
    "slideshow": {
     "slide_type": "fragment"
    }
   },
   "source": [
    "For example, to see a list of jobs (past and present) which have the name \"Recursive\" and are attached with your user, we can use the following,"
   ]
  },
  {
   "cell_type": "code",
   "execution_count": null,
   "metadata": {
    "slideshow": {
     "slide_type": "-"
    }
   },
   "outputs": [],
   "source": [
    "# execute this cell using SHIFT+ENTER\n",
    "sacct --user $USER --name \"Recursive\""
   ]
  },
  {
   "cell_type": "markdown",
   "metadata": {
    "slideshow": {
     "slide_type": "slide"
    }
   },
   "source": [
    "## The End. Thank you!\n",
    "\n",
    "*Feel free to play-round in the notebook after you exit this tutorial!*"
   ]
  }
 ],
 "metadata": {
  "celltoolbar": "Slideshow",
  "kernelspec": {
   "display_name": "Bash",
   "language": "bash",
   "name": "calysto_bash"
  },
  "language_info": {
   "file_extension": ".sh",
   "help_links": [
    {
     "text": "MetaKernel Magics",
     "url": "https://metakernel.readthedocs.io/en/latest/source/README.html"
    }
   ],
   "mimetype": "text/x-sh",
   "name": "bash",
   "version": "0.2.2"
  },
  "rise": {
   "autolaunch": true,
   "scroll": true,
   "theme": "night"
  }
 },
 "nbformat": 4,
 "nbformat_minor": 4
}
